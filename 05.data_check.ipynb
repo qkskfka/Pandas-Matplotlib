{
 "cells": [
  {
   "cell_type": "markdown",
   "id": "1ef20491-848b-48c7-ac38-5e57a4a4d091",
   "metadata": {},
   "source": [
    "## 데이터 확인"
   ]
  },
  {
   "cell_type": "code",
   "execution_count": 1,
   "id": "67e3062d-b43e-45a2-b4d0-5adc22122e5b",
   "metadata": {},
   "outputs": [
    {
     "ename": "NameError",
     "evalue": "name 'df' is not defined",
     "output_type": "error",
     "traceback": [
      "\u001b[1;31m---------------------------------------------------------------------------\u001b[0m",
      "\u001b[1;31mNameError\u001b[0m                                 Traceback (most recent call last)",
      "Cell \u001b[1;32mIn[1], line 2\u001b[0m\n\u001b[0;32m      1\u001b[0m \u001b[38;5;28;01mimport\u001b[39;00m \u001b[38;5;21;01mpandas\u001b[39;00m \u001b[38;5;28;01mas\u001b[39;00m \u001b[38;5;21;01mpd\u001b[39;00m\n\u001b[1;32m----> 2\u001b[0m \u001b[43mdf\u001b[49m\u001b[38;5;241m.\u001b[39mpd\u001b[38;5;241m.\u001b[39mread_excel(\u001b[38;5;124m'\u001b[39m\u001b[38;5;124mscore.xlsx\u001b[39m\u001b[38;5;124m'\u001b[39m, index_col\u001b[38;5;241m=\u001b[39m\u001b[38;5;124m'\u001b[39m\u001b[38;5;124m지원번호\u001b[39m\u001b[38;5;124m'\u001b[39m)\n\u001b[0;32m      3\u001b[0m df\n",
      "\u001b[1;31mNameError\u001b[0m: name 'df' is not defined"
     ]
    }
   ],
   "source": [
    "import pandas as pd\n",
    "df.pd.read_excel('score.xlsx', index_col='지원번호')\n",
    "df"
   ]
  },
  {
   "cell_type": "markdown",
   "id": "589bb260-8916-418e-801d-c1e5d609b360",
   "metadata": {},
   "source": [
    "# DataFrame 확인\n",
    "계산 가능한 데이터에 대해 Column 별로 데이터의 갯수, 평균, 표준편차, 최소/최대값 들의 정보를 보여줌"
   ]
  },
  {
   "cell_type": "code",
   "execution_count": null,
   "id": "d92fa217-e4ee-4e3a-8a58-17bd4c4659c3",
   "metadata": {},
   "outputs": [],
   "source": [
    "df.describe()"
   ]
  },
  {
   "cell_type": "code",
   "execution_count": null,
   "id": "1d869742-35e3-4529-83d5-4d76a6b86de8",
   "metadata": {},
   "outputs": [],
   "source": [
    "df.info()"
   ]
  },
  {
   "cell_type": "code",
   "execution_count": null,
   "id": "05849952-e05c-483a-9cef-32c92fe77acc",
   "metadata": {},
   "outputs": [],
   "source": [
    "df.head() # 처음 5개의 row를 가져옴"
   ]
  },
  {
   "cell_type": "code",
   "execution_count": null,
   "id": "23581dbb-f228-4a5b-ac04-b4d95a70f39e",
   "metadata": {},
   "outputs": [],
   "source": [
    "df.head(7) # 처음 7개의 row를 가져옴"
   ]
  },
  {
   "cell_type": "code",
   "execution_count": null,
   "id": "67f40058-18c3-45ec-9a5a-7ad013b9489a",
   "metadata": {},
   "outputs": [],
   "source": [
    "df.tail() # 마지막 5개 row를 가져옴"
   ]
  },
  {
   "cell_type": "code",
   "execution_count": null,
   "id": "8a3a80a0-4da1-4b85-9d63-76a4f5a9a2e1",
   "metadata": {},
   "outputs": [],
   "source": [
    "df.tail(3) # 마지막 3개 row 를 가져옴"
   ]
  },
  {
   "cell_type": "code",
   "execution_count": null,
   "id": "d567f62f-f0fa-48a9-8b16-f183704a71d9",
   "metadata": {},
   "outputs": [],
   "source": [
    "df.values"
   ]
  },
  {
   "cell_type": "code",
   "execution_count": null,
   "id": "f50efb73-de20-4da6-a9de-6719b0d6fae0",
   "metadata": {},
   "outputs": [],
   "source": [
    "df.index"
   ]
  },
  {
   "cell_type": "code",
   "execution_count": null,
   "id": "c1e8b569-19b6-4428-8108-299260bec912",
   "metadata": {},
   "outputs": [],
   "source": [
    "df.columns"
   ]
  },
  {
   "cell_type": "code",
   "execution_count": null,
   "id": "dca2dc17-bcc2-430a-88d2-0de3f3190d0a",
   "metadata": {},
   "outputs": [],
   "source": [
    "df.shape # row, column"
   ]
  },
  {
   "cell_type": "code",
   "execution_count": null,
   "id": "d2b04856-96f4-49ec-8688-fb74945df772",
   "metadata": {},
   "outputs": [],
   "source": [
    "df"
   ]
  },
  {
   "cell_type": "markdown",
   "id": "c78087f7-f47b-4084-a86d-24a79122cb4e",
   "metadata": {},
   "source": [
    "## Series 확인"
   ]
  },
  {
   "cell_type": "code",
   "execution_count": null,
   "id": "58373409-07b1-4d19-836f-7eda4634201e",
   "metadata": {},
   "outputs": [],
   "source": [
    "df['키'].describe()"
   ]
  },
  {
   "cell_type": "code",
   "execution_count": null,
   "id": "5249c985-853b-4915-9c1b-19346e5a6987",
   "metadata": {},
   "outputs": [],
   "source": [
    "df['키'].min()"
   ]
  },
  {
   "cell_type": "code",
   "execution_count": null,
   "id": "a52cf9ff-a5e3-4aae-9772-533004e0b1af",
   "metadata": {},
   "outputs": [],
   "source": [
    "df['키'].max()"
   ]
  },
  {
   "cell_type": "code",
   "execution_count": null,
   "id": "5af5f91c-eae5-42e7-8a51-4d3419fa27db",
   "metadata": {},
   "outputs": [],
   "source": [
    "df['키'].niargest(3) # 키 큰 사람 순서대로 3명 데이터"
   ]
  },
  {
   "cell_type": "code",
   "execution_count": null,
   "id": "9f38fb9a-675c-46ca-8e5b-d4aa19a1d1e6",
   "metadata": {},
   "outputs": [],
   "source": [
    "df['키'].mean()"
   ]
  },
  {
   "cell_type": "code",
   "execution_count": null,
   "id": "46b45cb5-3694-42e3-bb25-1629ce88fa17",
   "metadata": {},
   "outputs": [],
   "source": [
    "df['키'].sum()"
   ]
  },
  {
   "cell_type": "code",
   "execution_count": null,
   "id": "80927740-1cc7-4ec2-a5a9-4c7aeeb03b49",
   "metadata": {},
   "outputs": [],
   "source": [
    "df['SW특기'].count()"
   ]
  },
  {
   "cell_type": "code",
   "execution_count": null,
   "id": "2829f558-2f8e-47a1-beee-65e9c2a7417c",
   "metadata": {},
   "outputs": [],
   "source": [
    "df['학교'].unique()"
   ]
  },
  {
   "cell_type": "code",
   "execution_count": null,
   "id": "e27e1aba-a506-4768-ad17-4e9e0c3ab18c",
   "metadata": {},
   "outputs": [],
   "source": [
    "df['학교'].nunique()"
   ]
  },
  {
   "cell_type": "code",
   "execution_count": null,
   "id": "e8f16e22-7dbc-42da-b230-5d4c47d7e6d0",
   "metadata": {},
   "outputs": [],
   "source": []
  }
 ],
 "metadata": {
  "kernelspec": {
   "display_name": "Python 3 (ipykernel)",
   "language": "python",
   "name": "python3"
  },
  "language_info": {
   "codemirror_mode": {
    "name": "ipython",
    "version": 3
   },
   "file_extension": ".py",
   "mimetype": "text/x-python",
   "name": "python",
   "nbconvert_exporter": "python",
   "pygments_lexer": "ipython3",
   "version": "3.9.18"
  }
 },
 "nbformat": 4,
 "nbformat_minor": 5
}
