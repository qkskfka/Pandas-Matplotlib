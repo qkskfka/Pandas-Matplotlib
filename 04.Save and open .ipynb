{
 "cells": [
  {
   "cell_type": "markdown",
   "id": "d4b1501d-950d-4fbf-9652-86f127e29de9",
   "metadata": {},
   "source": [
    "# 4.파일 저장 및 열기\n",
    "DataFrame 객체를 excel, csv, txt 등 형태의 파일로 저장 및 열기"
   ]
  },
  {
   "cell_type": "code",
   "execution_count": 1,
   "id": "bd7fe715-3eb6-4b37-a60e-32775cea8d06",
   "metadata": {},
   "outputs": [
    {
     "data": {
      "text/html": [
       "<div>\n",
       "<style scoped>\n",
       "    .dataframe tbody tr th:only-of-type {\n",
       "        vertical-align: middle;\n",
       "    }\n",
       "\n",
       "    .dataframe tbody tr th {\n",
       "        vertical-align: top;\n",
       "    }\n",
       "\n",
       "    .dataframe thead th {\n",
       "        text-align: right;\n",
       "    }\n",
       "</style>\n",
       "<table border=\"1\" class=\"dataframe\">\n",
       "  <thead>\n",
       "    <tr style=\"text-align: right;\">\n",
       "      <th></th>\n",
       "      <th>이름</th>\n",
       "      <th>학교</th>\n",
       "      <th>키</th>\n",
       "      <th>국어</th>\n",
       "      <th>영어</th>\n",
       "      <th>수학</th>\n",
       "      <th>과학</th>\n",
       "      <th>사회</th>\n",
       "      <th>SW특기</th>\n",
       "    </tr>\n",
       "    <tr>\n",
       "      <th>지원번호</th>\n",
       "      <th></th>\n",
       "      <th></th>\n",
       "      <th></th>\n",
       "      <th></th>\n",
       "      <th></th>\n",
       "      <th></th>\n",
       "      <th></th>\n",
       "      <th></th>\n",
       "      <th></th>\n",
       "    </tr>\n",
       "  </thead>\n",
       "  <tbody>\n",
       "    <tr>\n",
       "      <th>1번</th>\n",
       "      <td>채치수</td>\n",
       "      <td>북산고</td>\n",
       "      <td>197</td>\n",
       "      <td>90</td>\n",
       "      <td>85</td>\n",
       "      <td>100</td>\n",
       "      <td>95</td>\n",
       "      <td>85</td>\n",
       "      <td>Python</td>\n",
       "    </tr>\n",
       "    <tr>\n",
       "      <th>2번</th>\n",
       "      <td>정대만</td>\n",
       "      <td>북산고</td>\n",
       "      <td>184</td>\n",
       "      <td>40</td>\n",
       "      <td>35</td>\n",
       "      <td>50</td>\n",
       "      <td>55</td>\n",
       "      <td>25</td>\n",
       "      <td>Java</td>\n",
       "    </tr>\n",
       "    <tr>\n",
       "      <th>3번</th>\n",
       "      <td>송태섭</td>\n",
       "      <td>북산고</td>\n",
       "      <td>168</td>\n",
       "      <td>80</td>\n",
       "      <td>75</td>\n",
       "      <td>70</td>\n",
       "      <td>80</td>\n",
       "      <td>75</td>\n",
       "      <td>Javascript</td>\n",
       "    </tr>\n",
       "    <tr>\n",
       "      <th>4번</th>\n",
       "      <td>서태웅</td>\n",
       "      <td>북산고</td>\n",
       "      <td>187</td>\n",
       "      <td>40</td>\n",
       "      <td>60</td>\n",
       "      <td>70</td>\n",
       "      <td>75</td>\n",
       "      <td>80</td>\n",
       "      <td></td>\n",
       "    </tr>\n",
       "    <tr>\n",
       "      <th>5번</th>\n",
       "      <td>강백호</td>\n",
       "      <td>북산고</td>\n",
       "      <td>188</td>\n",
       "      <td>15</td>\n",
       "      <td>20</td>\n",
       "      <td>10</td>\n",
       "      <td>35</td>\n",
       "      <td>10</td>\n",
       "      <td></td>\n",
       "    </tr>\n",
       "    <tr>\n",
       "      <th>6번</th>\n",
       "      <td>변덕규</td>\n",
       "      <td>능남고</td>\n",
       "      <td>202</td>\n",
       "      <td>80</td>\n",
       "      <td>100</td>\n",
       "      <td>95</td>\n",
       "      <td>85</td>\n",
       "      <td>80</td>\n",
       "      <td>C</td>\n",
       "    </tr>\n",
       "    <tr>\n",
       "      <th>7번</th>\n",
       "      <td>황태산</td>\n",
       "      <td>능남고</td>\n",
       "      <td>188</td>\n",
       "      <td>55</td>\n",
       "      <td>65</td>\n",
       "      <td>45</td>\n",
       "      <td>40</td>\n",
       "      <td>35</td>\n",
       "      <td>PYTHON</td>\n",
       "    </tr>\n",
       "    <tr>\n",
       "      <th>8번</th>\n",
       "      <td>윤대협</td>\n",
       "      <td>능남고</td>\n",
       "      <td>190</td>\n",
       "      <td>100</td>\n",
       "      <td>85</td>\n",
       "      <td>90</td>\n",
       "      <td>95</td>\n",
       "      <td>95</td>\n",
       "      <td>C#</td>\n",
       "    </tr>\n",
       "  </tbody>\n",
       "</table>\n",
       "</div>"
      ],
      "text/plain": [
       "       이름   학교    키   국어   영어   수학  과학  사회        SW특기\n",
       "지원번호                                                  \n",
       "1번    채치수  북산고  197   90   85  100  95  85      Python\n",
       "2번    정대만  북산고  184   40   35   50  55  25        Java\n",
       "3번    송태섭  북산고  168   80   75   70  80  75  Javascript\n",
       "4번    서태웅  북산고  187   40   60   70  75  80            \n",
       "5번    강백호  북산고  188   15   20   10  35  10            \n",
       "6번    변덕규  능남고  202   80  100   95  85  80           C\n",
       "7번    황태산  능남고  188   55   65   45  40  35      PYTHON\n",
       "8번    윤대협  능남고  190  100   85   90  95  95          C#"
      ]
     },
     "execution_count": 1,
     "metadata": {},
     "output_type": "execute_result"
    }
   ],
   "source": [
    "import pandas as pd\n",
    "data = {\n",
    "    '이름' : ['채치수', '정대만', '송태섭', '서태웅', '강백호', '변덕규', '황태산', '윤대협'],\n",
    "    '학교' : ['북산고', '북산고', '북산고', '북산고', '북산고', '능남고', '능남고', '능남고'],\n",
    "    '키' : [197, 184, 168, 187, 188, 202, 188, 190],\n",
    "    '국어' : [90, 40, 80, 40, 15, 80, 55, 100],\n",
    "    '영어' : [85, 35, 75, 60, 20, 100, 65, 85],\n",
    "    '수학' : [100, 50, 70, 70, 10, 95, 45, 90],\n",
    "    '과학' : [95, 55, 80, 75, 35, 85, 40, 95],\n",
    "    '사회' : [85, 25, 75, 80, 10, 80, 35, 95],\n",
    "    'SW특기' : ['Python', 'Java', 'Javascript', '', '', 'C', 'PYTHON', 'C#']\n",
    "}\n",
    "df = pd.DataFrame(data, index=['1번','2번','3번','4번','5번','6번','7번','8번' ])\n",
    "df.index.name = '지원번호'\n",
    "df"
   ]
  },
  {
   "cell_type": "markdown",
   "id": "2b6e5f10-0fbc-46d7-b785-0e609b436ec0",
   "metadata": {},
   "source": [
    "# 저장하기"
   ]
  },
  {
   "cell_type": "markdown",
   "id": "d20a4aa5-f274-40b0-a44c-0f1fa27d8088",
   "metadata": {},
   "source": [
    "# CSV 파일로 저장"
   ]
  },
  {
   "cell_type": "code",
   "execution_count": 4,
   "id": "08365ada-1d4c-4faf-8f70-3eff7bbe6bf9",
   "metadata": {},
   "outputs": [],
   "source": [
    "df.to_csv('score.csv', encoding='utf-8-sig')"
   ]
  },
  {
   "cell_type": "code",
   "execution_count": null,
   "id": "fca8076b-0d9a-4781-8dfb-8665dbb71afe",
   "metadata": {},
   "outputs": [],
   "source": [
    "df.to_csv('score.csv', encoding='utf-8-sig', index=False)"
   ]
  },
  {
   "cell_type": "markdown",
   "id": "51e86dea-215c-4abe-ab0d-72dceb518b3d",
   "metadata": {},
   "source": [
    "# 텍스트(.txt) 파일로 저장"
   ]
  },
  {
   "cell_type": "code",
   "execution_count": 5,
   "id": "5d76183c-92c1-4132-b67f-14ed444bf1ae",
   "metadata": {},
   "outputs": [],
   "source": [
    "df.to_csv('score.csv', sep='\\t') # tab으로 구분된 텍스트 파일"
   ]
  },
  {
   "cell_type": "markdown",
   "id": "40f0a21c-b6a4-4388-bec3-f0f36935d579",
   "metadata": {},
   "source": [
    "# 엑셀 파일로 저장"
   ]
  },
  {
   "cell_type": "code",
   "execution_count": null,
   "id": "7eef3a1c-dac8-4a10-a0cf-c74a4ae87e21",
   "metadata": {},
   "outputs": [],
   "source": [
    "df.to_excel('score.xlsx')"
   ]
  },
  {
   "cell_type": "markdown",
   "id": "86fc2a87-4243-46b1-8c3f-fcbc11c0f34f",
   "metadata": {},
   "source": [
    "***\n",
    "## 열기"
   ]
  },
  {
   "cell_type": "markdown",
   "id": "1d0bab34-a896-4f15-93ff-77204f816162",
   "metadata": {},
   "source": [
    "## CSV 파일 열기"
   ]
  },
  {
   "cell_type": "code",
   "execution_count": 8,
   "id": "bd3d1b43-3349-4d19-ac00-8572a6461ae7",
   "metadata": {},
   "outputs": [
    {
     "data": {
      "text/html": [
       "<div>\n",
       "<style scoped>\n",
       "    .dataframe tbody tr th:only-of-type {\n",
       "        vertical-align: middle;\n",
       "    }\n",
       "\n",
       "    .dataframe tbody tr th {\n",
       "        vertical-align: top;\n",
       "    }\n",
       "\n",
       "    .dataframe thead th {\n",
       "        text-align: right;\n",
       "    }\n",
       "</style>\n",
       "<table border=\"1\" class=\"dataframe\">\n",
       "  <thead>\n",
       "    <tr style=\"text-align: right;\">\n",
       "      <th></th>\n",
       "      <th>지원번호\\t이름\\t학교\\t키\\t국어\\t영어\\t수학\\t과학\\t사회\\tSW특기</th>\n",
       "    </tr>\n",
       "  </thead>\n",
       "  <tbody>\n",
       "    <tr>\n",
       "      <th>0</th>\n",
       "      <td>1번\\t채치수\\t북산고\\t197\\t90\\t85\\t100\\t95\\t85\\tPython</td>\n",
       "    </tr>\n",
       "    <tr>\n",
       "      <th>1</th>\n",
       "      <td>2번\\t정대만\\t북산고\\t184\\t40\\t35\\t50\\t55\\t25\\tJava</td>\n",
       "    </tr>\n",
       "    <tr>\n",
       "      <th>2</th>\n",
       "      <td>3번\\t송태섭\\t북산고\\t168\\t80\\t75\\t70\\t80\\t75\\tJavascript</td>\n",
       "    </tr>\n",
       "    <tr>\n",
       "      <th>3</th>\n",
       "      <td>4번\\t서태웅\\t북산고\\t187\\t40\\t60\\t70\\t75\\t80\\t</td>\n",
       "    </tr>\n",
       "    <tr>\n",
       "      <th>4</th>\n",
       "      <td>5번\\t강백호\\t북산고\\t188\\t15\\t20\\t10\\t35\\t10\\t</td>\n",
       "    </tr>\n",
       "    <tr>\n",
       "      <th>5</th>\n",
       "      <td>6번\\t변덕규\\t능남고\\t202\\t80\\t100\\t95\\t85\\t80\\tC</td>\n",
       "    </tr>\n",
       "    <tr>\n",
       "      <th>6</th>\n",
       "      <td>7번\\t황태산\\t능남고\\t188\\t55\\t65\\t45\\t40\\t35\\tPYTHON</td>\n",
       "    </tr>\n",
       "    <tr>\n",
       "      <th>7</th>\n",
       "      <td>8번\\t윤대협\\t능남고\\t190\\t100\\t85\\t90\\t95\\t95\\tC#</td>\n",
       "    </tr>\n",
       "  </tbody>\n",
       "</table>\n",
       "</div>"
      ],
      "text/plain": [
       "           지원번호\\t이름\\t학교\\t키\\t국어\\t영어\\t수학\\t과학\\t사회\\tSW특기\n",
       "0     1번\\t채치수\\t북산고\\t197\\t90\\t85\\t100\\t95\\t85\\tPython\n",
       "1        2번\\t정대만\\t북산고\\t184\\t40\\t35\\t50\\t55\\t25\\tJava\n",
       "2  3번\\t송태섭\\t북산고\\t168\\t80\\t75\\t70\\t80\\t75\\tJavascript\n",
       "3            4번\\t서태웅\\t북산고\\t187\\t40\\t60\\t70\\t75\\t80\\t\n",
       "4            5번\\t강백호\\t북산고\\t188\\t15\\t20\\t10\\t35\\t10\\t\n",
       "5          6번\\t변덕규\\t능남고\\t202\\t80\\t100\\t95\\t85\\t80\\tC\n",
       "6      7번\\t황태산\\t능남고\\t188\\t55\\t65\\t45\\t40\\t35\\tPYTHON\n",
       "7         8번\\t윤대협\\t능남고\\t190\\t100\\t85\\t90\\t95\\t95\\tC#"
      ]
     },
     "execution_count": 8,
     "metadata": {},
     "output_type": "execute_result"
    }
   ],
   "source": [
    "df = pd.read_csv('score.csv')\n",
    "df"
   ]
  },
  {
   "cell_type": "code",
   "execution_count": 9,
   "id": "c922560d-f32e-4b3a-b279-c2ab76f929df",
   "metadata": {},
   "outputs": [
    {
     "data": {
      "text/html": [
       "<div>\n",
       "<style scoped>\n",
       "    .dataframe tbody tr th:only-of-type {\n",
       "        vertical-align: middle;\n",
       "    }\n",
       "\n",
       "    .dataframe tbody tr th {\n",
       "        vertical-align: top;\n",
       "    }\n",
       "\n",
       "    .dataframe thead th {\n",
       "        text-align: right;\n",
       "    }\n",
       "</style>\n",
       "<table border=\"1\" class=\"dataframe\">\n",
       "  <thead>\n",
       "    <tr style=\"text-align: right;\">\n",
       "      <th></th>\n",
       "      <th>1번\\t채치수\\t북산고\\t197\\t90\\t85\\t100\\t95\\t85\\tPython</th>\n",
       "    </tr>\n",
       "  </thead>\n",
       "  <tbody>\n",
       "    <tr>\n",
       "      <th>0</th>\n",
       "      <td>2번\\t정대만\\t북산고\\t184\\t40\\t35\\t50\\t55\\t25\\tJava</td>\n",
       "    </tr>\n",
       "    <tr>\n",
       "      <th>1</th>\n",
       "      <td>3번\\t송태섭\\t북산고\\t168\\t80\\t75\\t70\\t80\\t75\\tJavascript</td>\n",
       "    </tr>\n",
       "    <tr>\n",
       "      <th>2</th>\n",
       "      <td>4번\\t서태웅\\t북산고\\t187\\t40\\t60\\t70\\t75\\t80\\t</td>\n",
       "    </tr>\n",
       "    <tr>\n",
       "      <th>3</th>\n",
       "      <td>5번\\t강백호\\t북산고\\t188\\t15\\t20\\t10\\t35\\t10\\t</td>\n",
       "    </tr>\n",
       "    <tr>\n",
       "      <th>4</th>\n",
       "      <td>6번\\t변덕규\\t능남고\\t202\\t80\\t100\\t95\\t85\\t80\\tC</td>\n",
       "    </tr>\n",
       "    <tr>\n",
       "      <th>5</th>\n",
       "      <td>7번\\t황태산\\t능남고\\t188\\t55\\t65\\t45\\t40\\t35\\tPYTHON</td>\n",
       "    </tr>\n",
       "    <tr>\n",
       "      <th>6</th>\n",
       "      <td>8번\\t윤대협\\t능남고\\t190\\t100\\t85\\t90\\t95\\t95\\tC#</td>\n",
       "    </tr>\n",
       "  </tbody>\n",
       "</table>\n",
       "</div>"
      ],
      "text/plain": [
       "      1번\\t채치수\\t북산고\\t197\\t90\\t85\\t100\\t95\\t85\\tPython\n",
       "0        2번\\t정대만\\t북산고\\t184\\t40\\t35\\t50\\t55\\t25\\tJava\n",
       "1  3번\\t송태섭\\t북산고\\t168\\t80\\t75\\t70\\t80\\t75\\tJavascript\n",
       "2            4번\\t서태웅\\t북산고\\t187\\t40\\t60\\t70\\t75\\t80\\t\n",
       "3            5번\\t강백호\\t북산고\\t188\\t15\\t20\\t10\\t35\\t10\\t\n",
       "4          6번\\t변덕규\\t능남고\\t202\\t80\\t100\\t95\\t85\\t80\\tC\n",
       "5      7번\\t황태산\\t능남고\\t188\\t55\\t65\\t45\\t40\\t35\\tPYTHON\n",
       "6         8번\\t윤대협\\t능남고\\t190\\t100\\t85\\t90\\t95\\t95\\tC#"
      ]
     },
     "execution_count": 9,
     "metadata": {},
     "output_type": "execute_result"
    }
   ],
   "source": [
    "df = pd.read_csv('score.csv', skiprows=1) # 지정된 갯수 만큼의 row를 건너뜀\n",
    "df"
   ]
  },
  {
   "cell_type": "code",
   "execution_count": 10,
   "id": "b45d9632-fb4c-42ea-b3a4-b38cc7493f90",
   "metadata": {},
   "outputs": [
    {
     "data": {
      "text/html": [
       "<div>\n",
       "<style scoped>\n",
       "    .dataframe tbody tr th:only-of-type {\n",
       "        vertical-align: middle;\n",
       "    }\n",
       "\n",
       "    .dataframe tbody tr th {\n",
       "        vertical-align: top;\n",
       "    }\n",
       "\n",
       "    .dataframe thead th {\n",
       "        text-align: right;\n",
       "    }\n",
       "</style>\n",
       "<table border=\"1\" class=\"dataframe\">\n",
       "  <thead>\n",
       "    <tr style=\"text-align: right;\">\n",
       "      <th></th>\n",
       "      <th>지원번호\\t이름\\t학교\\t키\\t국어\\t영어\\t수학\\t과학\\t사회\\tSW특기</th>\n",
       "    </tr>\n",
       "  </thead>\n",
       "  <tbody>\n",
       "    <tr>\n",
       "      <th>0</th>\n",
       "      <td>2번\\t정대만\\t북산고\\t184\\t40\\t35\\t50\\t55\\t25\\tJava</td>\n",
       "    </tr>\n",
       "    <tr>\n",
       "      <th>1</th>\n",
       "      <td>4번\\t서태웅\\t북산고\\t187\\t40\\t60\\t70\\t75\\t80\\t</td>\n",
       "    </tr>\n",
       "    <tr>\n",
       "      <th>2</th>\n",
       "      <td>6번\\t변덕규\\t능남고\\t202\\t80\\t100\\t95\\t85\\t80\\tC</td>\n",
       "    </tr>\n",
       "    <tr>\n",
       "      <th>3</th>\n",
       "      <td>7번\\t황태산\\t능남고\\t188\\t55\\t65\\t45\\t40\\t35\\tPYTHON</td>\n",
       "    </tr>\n",
       "    <tr>\n",
       "      <th>4</th>\n",
       "      <td>8번\\t윤대협\\t능남고\\t190\\t100\\t85\\t90\\t95\\t95\\tC#</td>\n",
       "    </tr>\n",
       "  </tbody>\n",
       "</table>\n",
       "</div>"
      ],
      "text/plain": [
       "       지원번호\\t이름\\t학교\\t키\\t국어\\t영어\\t수학\\t과학\\t사회\\tSW특기\n",
       "0    2번\\t정대만\\t북산고\\t184\\t40\\t35\\t50\\t55\\t25\\tJava\n",
       "1        4번\\t서태웅\\t북산고\\t187\\t40\\t60\\t70\\t75\\t80\\t\n",
       "2      6번\\t변덕규\\t능남고\\t202\\t80\\t100\\t95\\t85\\t80\\tC\n",
       "3  7번\\t황태산\\t능남고\\t188\\t55\\t65\\t45\\t40\\t35\\tPYTHON\n",
       "4     8번\\t윤대협\\t능남고\\t190\\t100\\t85\\t90\\t95\\t95\\tC#"
      ]
     },
     "execution_count": 10,
     "metadata": {},
     "output_type": "execute_result"
    }
   ],
   "source": [
    "df = pd.read_csv('score.csv', skiprows=[1, 3, 5]) # 1, 3, 5 row 는 제외 (row 0부터 시작)\n",
    "df"
   ]
  },
  {
   "cell_type": "code",
   "execution_count": 11,
   "id": "d90f4337-e7ca-44a7-b1a0-ed8ebf7f3ecf",
   "metadata": {},
   "outputs": [
    {
     "data": {
      "text/html": [
       "<div>\n",
       "<style scoped>\n",
       "    .dataframe tbody tr th:only-of-type {\n",
       "        vertical-align: middle;\n",
       "    }\n",
       "\n",
       "    .dataframe tbody tr th {\n",
       "        vertical-align: top;\n",
       "    }\n",
       "\n",
       "    .dataframe thead th {\n",
       "        text-align: right;\n",
       "    }\n",
       "</style>\n",
       "<table border=\"1\" class=\"dataframe\">\n",
       "  <thead>\n",
       "    <tr style=\"text-align: right;\">\n",
       "      <th></th>\n",
       "      <th>지원번호\\t이름\\t학교\\t키\\t국어\\t영어\\t수학\\t과학\\t사회\\tSW특기</th>\n",
       "    </tr>\n",
       "  </thead>\n",
       "  <tbody>\n",
       "    <tr>\n",
       "      <th>0</th>\n",
       "      <td>1번\\t채치수\\t북산고\\t197\\t90\\t85\\t100\\t95\\t85\\tPython</td>\n",
       "    </tr>\n",
       "    <tr>\n",
       "      <th>1</th>\n",
       "      <td>2번\\t정대만\\t북산고\\t184\\t40\\t35\\t50\\t55\\t25\\tJava</td>\n",
       "    </tr>\n",
       "    <tr>\n",
       "      <th>2</th>\n",
       "      <td>3번\\t송태섭\\t북산고\\t168\\t80\\t75\\t70\\t80\\t75\\tJavascript</td>\n",
       "    </tr>\n",
       "    <tr>\n",
       "      <th>3</th>\n",
       "      <td>4번\\t서태웅\\t북산고\\t187\\t40\\t60\\t70\\t75\\t80\\t</td>\n",
       "    </tr>\n",
       "  </tbody>\n",
       "</table>\n",
       "</div>"
      ],
      "text/plain": [
       "           지원번호\\t이름\\t학교\\t키\\t국어\\t영어\\t수학\\t과학\\t사회\\tSW특기\n",
       "0     1번\\t채치수\\t북산고\\t197\\t90\\t85\\t100\\t95\\t85\\tPython\n",
       "1        2번\\t정대만\\t북산고\\t184\\t40\\t35\\t50\\t55\\t25\\tJava\n",
       "2  3번\\t송태섭\\t북산고\\t168\\t80\\t75\\t70\\t80\\t75\\tJavascript\n",
       "3            4번\\t서태웅\\t북산고\\t187\\t40\\t60\\t70\\t75\\t80\\t"
      ]
     },
     "execution_count": 11,
     "metadata": {},
     "output_type": "execute_result"
    }
   ],
   "source": [
    "df = pd.read_csv('score.csv', nrows=4) # 지정된 갯수 만큼의 row만 가져옴\n",
    "df"
   ]
  },
  {
   "cell_type": "code",
   "execution_count": 12,
   "id": "fe02dba0-5f89-4391-aedb-d0509be67970",
   "metadata": {},
   "outputs": [
    {
     "data": {
      "text/html": [
       "<div>\n",
       "<style scoped>\n",
       "    .dataframe tbody tr th:only-of-type {\n",
       "        vertical-align: middle;\n",
       "    }\n",
       "\n",
       "    .dataframe tbody tr th {\n",
       "        vertical-align: top;\n",
       "    }\n",
       "\n",
       "    .dataframe thead th {\n",
       "        text-align: right;\n",
       "    }\n",
       "</style>\n",
       "<table border=\"1\" class=\"dataframe\">\n",
       "  <thead>\n",
       "    <tr style=\"text-align: right;\">\n",
       "      <th></th>\n",
       "      <th>2번\\t정대만\\t북산고\\t184\\t40\\t35\\t50\\t55\\t25\\tJava</th>\n",
       "    </tr>\n",
       "  </thead>\n",
       "  <tbody>\n",
       "    <tr>\n",
       "      <th>0</th>\n",
       "      <td>3번\\t송태섭\\t북산고\\t168\\t80\\t75\\t70\\t80\\t75\\tJavascript</td>\n",
       "    </tr>\n",
       "    <tr>\n",
       "      <th>1</th>\n",
       "      <td>4번\\t서태웅\\t북산고\\t187\\t40\\t60\\t70\\t75\\t80\\t</td>\n",
       "    </tr>\n",
       "    <tr>\n",
       "      <th>2</th>\n",
       "      <td>5번\\t강백호\\t북산고\\t188\\t15\\t20\\t10\\t35\\t10\\t</td>\n",
       "    </tr>\n",
       "    <tr>\n",
       "      <th>3</th>\n",
       "      <td>6번\\t변덕규\\t능남고\\t202\\t80\\t100\\t95\\t85\\t80\\tC</td>\n",
       "    </tr>\n",
       "  </tbody>\n",
       "</table>\n",
       "</div>"
      ],
      "text/plain": [
       "         2번\\t정대만\\t북산고\\t184\\t40\\t35\\t50\\t55\\t25\\tJava\n",
       "0  3번\\t송태섭\\t북산고\\t168\\t80\\t75\\t70\\t80\\t75\\tJavascript\n",
       "1            4번\\t서태웅\\t북산고\\t187\\t40\\t60\\t70\\t75\\t80\\t\n",
       "2            5번\\t강백호\\t북산고\\t188\\t15\\t20\\t10\\t35\\t10\\t\n",
       "3          6번\\t변덕규\\t능남고\\t202\\t80\\t100\\t95\\t85\\t80\\tC"
      ]
     },
     "execution_count": 12,
     "metadata": {},
     "output_type": "execute_result"
    }
   ],
   "source": [
    "df = pd.read_csv('score.csv', skiprows=2, nrows=4) # 처음 2 row 무시, 이후에 4 row를 가여옴\n",
    "df"
   ]
  },
  {
   "cell_type": "code",
   "execution_count": null,
   "id": "61c5e191-b441-4d9d-b1e3-a697753364f9",
   "metadata": {},
   "outputs": [],
   "source": []
  }
 ],
 "metadata": {
  "kernelspec": {
   "display_name": "Python 3 (ipykernel)",
   "language": "python",
   "name": "python3"
  },
  "language_info": {
   "codemirror_mode": {
    "name": "ipython",
    "version": 3
   },
   "file_extension": ".py",
   "mimetype": "text/x-python",
   "name": "python",
   "nbconvert_exporter": "python",
   "pygments_lexer": "ipython3",
   "version": "3.9.18"
  }
 },
 "nbformat": 4,
 "nbformat_minor": 5
}
